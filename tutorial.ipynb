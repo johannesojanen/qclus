{
 "cells": [
  {
   "cell_type": "code",
   "execution_count": 1,
   "metadata": {},
   "outputs": [],
   "source": [
    "import qclus"
   ]
  },
  {
   "cell_type": "code",
   "execution_count": 2,
   "metadata": {},
   "outputs": [
    {
     "name": "stderr",
     "output_type": "stream",
     "text": [
      "/Users/johannesojanen/opt/anaconda3/envs/qclus/lib/python3.9/site-packages/anndata/_core/anndata.py:1830: UserWarning: Variable names are not unique. To make them unique, call `.var_names_make_unique`.\n",
      "  utils.warn_names_duplicates(\"var\")\n",
      "/Users/johannesojanen/opt/anaconda3/envs/qclus/lib/python3.9/site-packages/scanpy/tools/_score_genes.py:151: FutureWarning: Passing a set as an indexer is deprecated and will raise in a future version. Use a list instead.\n",
      "  for cut in np.unique(obs_cut.loc[gene_list]):\n",
      "/Users/johannesojanen/opt/anaconda3/envs/qclus/lib/python3.9/site-packages/scanpy/tools/_score_genes.py:151: FutureWarning: Passing a set as an indexer is deprecated and will raise in a future version. Use a list instead.\n",
      "  for cut in np.unique(obs_cut.loc[gene_list]):\n",
      "/Users/johannesojanen/opt/anaconda3/envs/qclus/lib/python3.9/site-packages/scanpy/tools/_score_genes.py:151: FutureWarning: Passing a set as an indexer is deprecated and will raise in a future version. Use a list instead.\n",
      "  for cut in np.unique(obs_cut.loc[gene_list]):\n",
      "/Users/johannesojanen/opt/anaconda3/envs/qclus/lib/python3.9/site-packages/scanpy/tools/_score_genes.py:151: FutureWarning: Passing a set as an indexer is deprecated and will raise in a future version. Use a list instead.\n",
      "  for cut in np.unique(obs_cut.loc[gene_list]):\n",
      "/Users/johannesojanen/opt/anaconda3/envs/qclus/lib/python3.9/site-packages/scanpy/tools/_score_genes.py:151: FutureWarning: Passing a set as an indexer is deprecated and will raise in a future version. Use a list instead.\n",
      "  for cut in np.unique(obs_cut.loc[gene_list]):\n",
      "/Users/johannesojanen/opt/anaconda3/envs/qclus/lib/python3.9/site-packages/scanpy/tools/_score_genes.py:151: FutureWarning: Passing a set as an indexer is deprecated and will raise in a future version. Use a list instead.\n",
      "  for cut in np.unique(obs_cut.loc[gene_list]):\n",
      "/Users/johannesojanen/opt/anaconda3/envs/qclus/lib/python3.9/site-packages/scanpy/tools/_score_genes.py:151: FutureWarning: Passing a set as an indexer is deprecated and will raise in a future version. Use a list instead.\n",
      "  for cut in np.unique(obs_cut.loc[gene_list]):\n",
      "/Users/johannesojanen/opt/anaconda3/envs/qclus/lib/python3.9/site-packages/scanpy/tools/_score_genes.py:151: FutureWarning: Passing a set as an indexer is deprecated and will raise in a future version. Use a list instead.\n",
      "  for cut in np.unique(obs_cut.loc[gene_list]):\n",
      "/Users/johannesojanen/opt/anaconda3/envs/qclus/lib/python3.9/site-packages/scanpy/tools/_score_genes.py:151: FutureWarning: Passing a set as an indexer is deprecated and will raise in a future version. Use a list instead.\n",
      "  for cut in np.unique(obs_cut.loc[gene_list]):\n",
      "/Users/johannesojanen/opt/anaconda3/envs/qclus/lib/python3.9/site-packages/scanpy/tools/_score_genes.py:151: FutureWarning: Passing a set as an indexer is deprecated and will raise in a future version. Use a list instead.\n",
      "  for cut in np.unique(obs_cut.loc[gene_list]):\n",
      "/Users/johannesojanen/opt/anaconda3/envs/qclus/lib/python3.9/site-packages/scanpy/tools/_score_genes.py:151: FutureWarning: Passing a set as an indexer is deprecated and will raise in a future version. Use a list instead.\n",
      "  for cut in np.unique(obs_cut.loc[gene_list]):\n",
      "/Users/johannesojanen/opt/anaconda3/envs/qclus/lib/python3.9/site-packages/scanpy/tools/_score_genes.py:151: FutureWarning: Passing a set as an indexer is deprecated and will raise in a future version. Use a list instead.\n",
      "  for cut in np.unique(obs_cut.loc[gene_list]):\n",
      "/Users/johannesojanen/opt/anaconda3/envs/qclus/lib/python3.9/site-packages/scanpy/tools/_score_genes.py:151: FutureWarning: Passing a set as an indexer is deprecated and will raise in a future version. Use a list instead.\n",
      "  for cut in np.unique(obs_cut.loc[gene_list]):\n",
      "/Users/johannesojanen/opt/anaconda3/envs/qclus/lib/python3.9/site-packages/scanpy/tools/_score_genes.py:151: FutureWarning: Passing a set as an indexer is deprecated and will raise in a future version. Use a list instead.\n",
      "  for cut in np.unique(obs_cut.loc[gene_list]):\n",
      "/Users/johannesojanen/opt/anaconda3/envs/qclus/lib/python3.9/site-packages/scanpy/tools/_score_genes.py:151: FutureWarning: Passing a set as an indexer is deprecated and will raise in a future version. Use a list instead.\n",
      "  for cut in np.unique(obs_cut.loc[gene_list]):\n",
      "/Users/johannesojanen/Library/CloudStorage/Dropbox/WORK/MIT/qclus/qclus/qclus.py:84: ImplicitModificationWarning: Trying to modify attribute `.obs` of view, initializing view as actual.\n",
      "  adata.obs['score_scrublet'] = calculate_scrublet(adata,\n",
      "/Users/johannesojanen/opt/anaconda3/envs/qclus/lib/python3.9/site-packages/scanpy/tools/_score_genes.py:151: FutureWarning: Passing a set as an indexer is deprecated and will raise in a future version. Use a list instead.\n",
      "  for cut in np.unique(obs_cut.loc[gene_list]):\n",
      "/Users/johannesojanen/Library/CloudStorage/Dropbox/WORK/MIT/qclus/qclus/utils.py:68: SettingWithCopyWarning: \n",
      "A value is trying to be set on a copy of a slice from a DataFrame.\n",
      "Try using .loc[row_indexer,col_indexer] = value instead\n",
      "\n",
      "See the caveats in the documentation: https://pandas.pydata.org/pandas-docs/stable/user_guide/indexing.html#returning-a-view-versus-a-copy\n",
      "  df['max_non_CM'] = [\"1\" if x in max_non_CM else \"0\" for x in df.kmeans]\n",
      "/Users/johannesojanen/Library/CloudStorage/Dropbox/WORK/MIT/qclus/qclus/qclus.py:111: ImplicitModificationWarning: Trying to modify attribute `.obs` of view, initializing view as actual.\n",
      "  adata.obs[\"outlier_filter\"] = annotate_outliers(adata.obs[[\"fraction_unspliced\", \"pct_counts_MT\", \"kmeans\", \"pct_counts_nonCM\"]], unspliced_diff=outlier_unspliced_diff, mito_diff=outlier_mito_diff)\n",
      "/Users/johannesojanen/Library/CloudStorage/Dropbox/WORK/MIT/qclus/qclus/qclus.py:116: ImplicitModificationWarning: Trying to modify attribute `.obs` of view, initializing view as actual.\n",
      "  adata.obs[\"scrublet_filter\"] = [False if x < scrublet_thresh else True for x in adata.obs.score_scrublet]\n",
      "/Users/johannesojanen/Library/CloudStorage/Dropbox/WORK/MIT/qclus/qclus/qclus.py:121: SettingWithCopyWarning: \n",
      "A value is trying to be set on a copy of a slice from a DataFrame.\n",
      "Try using .loc[row_indexer,col_indexer] = value instead\n",
      "\n",
      "See the caveats in the documentation: https://pandas.pydata.org/pandas-docs/stable/user_guide/indexing.html#returning-a-view-versus-a-copy\n",
      "  adata_raw.obs[\"qclus\"] = \"passed\"\n"
     ]
    }
   ],
   "source": [
    "counts_path = \"samples/filtered_feature_bc_matrix_739.h5\"\n",
    "loompy_path = \"samples/counts_counts_CAD_739.loom\"\n",
    "adata = qclus.run_qclus(counts_path,  \n",
    "                        loompy_path)"
   ]
  },
  {
   "cell_type": "code",
   "execution_count": null,
   "metadata": {},
   "outputs": [],
   "source": []
  }
 ],
 "metadata": {
  "kernelspec": {
   "display_name": "qclus",
   "language": "python",
   "name": "python3"
  },
  "language_info": {
   "codemirror_mode": {
    "name": "ipython",
    "version": 3
   },
   "file_extension": ".py",
   "mimetype": "text/x-python",
   "name": "python",
   "nbconvert_exporter": "python",
   "pygments_lexer": "ipython3",
   "version": "3.9.15"
  },
  "orig_nbformat": 4,
  "vscode": {
   "interpreter": {
    "hash": "eb4a8d64569f273b2cd82d9db4cfcd7afd0acc0c48f126a283f64c5c1bcd8676"
   }
  }
 },
 "nbformat": 4,
 "nbformat_minor": 2
}
