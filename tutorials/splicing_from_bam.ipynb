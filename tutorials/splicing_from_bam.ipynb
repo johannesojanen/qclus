{
 "cells": [
  {
   "cell_type": "code",
   "execution_count": null,
   "id": "d836907f",
   "metadata": {},
   "outputs": [],
   "source": [
    "import qclus as qc"
   ]
  },
  {
   "cell_type": "code",
   "execution_count": 1,
   "id": "f3465c3b-48f7-44ce-a89f-a7e5bab73881",
   "metadata": {},
   "outputs": [],
   "source": [
    "outs_path = \"path/to/outs\""
   ]
  },
  {
   "cell_type": "code",
   "execution_count": null,
   "id": "bf3cebc7",
   "metadata": {},
   "outputs": [],
   "source": [
    "# Splcing file was generated with the following command\n",
    "\n",
    "fraction_unspliced2 = qc.utils.nuclear_fraction_tags(outs=outs_path, \n",
    "                           verbose=True, \n",
    "                           tiles=80, \n",
    "                           cores=8)"
   ]
  },
  {
   "cell_type": "code",
   "execution_count": null,
   "id": "5d204ec8",
   "metadata": {},
   "outputs": [],
   "source": [
    "# if different directory structure, then you can specify the path to the different files directly:\n",
    "\n",
    "fraction_unspliced = qc.utils.nuclear_fraction_tags(outs=None, \n",
    "                            bam=\"path/to/bam\", \n",
    "                            bam_index=\"path/to/bam_index\",\n",
    "                            barcodes=\"path/to/barcodes\",\n",
    "                            tiles=80, \n",
    "                            cores=8, \n",
    "                            cell_barcode_tag=\"CB\", \n",
    "                            region_type_tag=\"RE\", \n",
    "                            exon_tag=\"E\", \n",
    "                            intron_tag=\"N\", \n",
    "                            verbose=True)"
   ]
  },
  {
   "cell_type": "code",
   "execution_count": null,
   "id": "0eb21cde",
   "metadata": {},
   "outputs": [],
   "source": [
    "# save the data\n",
    "#fraction_unspliced.to_csv(\"fraction_unspliced.csv\")"
   ]
  }
 ],
 "metadata": {
  "kernelspec": {
   "display_name": "Python 3 (ipykernel)",
   "language": "python",
   "name": "python3"
  },
  "language_info": {
   "codemirror_mode": {
    "name": "ipython",
    "version": 3
   },
   "file_extension": ".py",
   "mimetype": "text/x-python",
   "name": "python",
   "nbconvert_exporter": "python",
   "pygments_lexer": "ipython3",
   "version": "3.1.-1"
  }
 },
 "nbformat": 4,
 "nbformat_minor": 5
}
