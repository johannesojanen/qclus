{
 "cells": [
  {
   "attachments": {},
   "cell_type": "markdown",
   "id": "d5eafb68-0071-444e-81fb-8743ebfd37b7",
   "metadata": {},
   "source": [
    "# Splicing from .loom tutorial"
   ]
  },
  {
   "cell_type": "code",
   "execution_count": 2,
   "id": "83579d90-6216-4def-a942-6fc538b66975",
   "metadata": {},
   "outputs": [],
   "source": [
    "import sys\n",
    "sys.path.append('..')\n",
    "\n",
    "import qclus as qc\n",
    "from qclus.gene_lists import *\n",
    "import pandas as pd\n",
    "\n",
    "import warnings\n",
    "warnings.filterwarnings(\"ignore\")"
   ]
  },
  {
   "cell_type": "code",
   "execution_count": 3,
   "id": "bc967afd-26a7-4c89-954d-6231e3b2a90d",
   "metadata": {},
   "outputs": [],
   "source": [
    "import sys\n",
    "sys.path.append('..')\n",
    "\n",
    "loompy_path = \"../../samples/sample_lq.loom\""
   ]
  },
  {
   "cell_type": "code",
   "execution_count": 4,
   "id": "d6385456-f5f1-427a-bc91-9ccae2bc53c7",
   "metadata": {},
   "outputs": [],
   "source": [
    "fraction_unspliced = qc.utils.fraction_unspliced_from_loom(loompy_path)"
   ]
  },
  {
   "cell_type": "code",
   "execution_count": 5,
   "id": "a4a59a62-86ef-4a12-ab66-fd7772ab66f3",
   "metadata": {},
   "outputs": [
    {
     "data": {
      "text/html": [
       "<div>\n",
       "<style scoped>\n",
       "    .dataframe tbody tr th:only-of-type {\n",
       "        vertical-align: middle;\n",
       "    }\n",
       "\n",
       "    .dataframe tbody tr th {\n",
       "        vertical-align: top;\n",
       "    }\n",
       "\n",
       "    .dataframe thead th {\n",
       "        text-align: right;\n",
       "    }\n",
       "</style>\n",
       "<table border=\"1\" class=\"dataframe\">\n",
       "  <thead>\n",
       "    <tr style=\"text-align: right;\">\n",
       "      <th></th>\n",
       "      <th>fraction_unspliced</th>\n",
       "    </tr>\n",
       "  </thead>\n",
       "  <tbody>\n",
       "    <tr>\n",
       "      <th>AAACGAACATTCTCTA</th>\n",
       "      <td>0.523716</td>\n",
       "    </tr>\n",
       "    <tr>\n",
       "      <th>AAACGAAAGCCGCTTG</th>\n",
       "      <td>0.505452</td>\n",
       "    </tr>\n",
       "    <tr>\n",
       "      <th>AAACGCTCACGCTGTG</th>\n",
       "      <td>0.435658</td>\n",
       "    </tr>\n",
       "    <tr>\n",
       "      <th>AAACGAACAACTGCTA</th>\n",
       "      <td>0.385696</td>\n",
       "    </tr>\n",
       "    <tr>\n",
       "      <th>AAACGCTGTGGGTATG</th>\n",
       "      <td>0.624506</td>\n",
       "    </tr>\n",
       "    <tr>\n",
       "      <th>...</th>\n",
       "      <td>...</td>\n",
       "    </tr>\n",
       "    <tr>\n",
       "      <th>TTTGTTGGTCCTGGTG</th>\n",
       "      <td>0.595714</td>\n",
       "    </tr>\n",
       "    <tr>\n",
       "      <th>TTTGTTGTCCTAAACG</th>\n",
       "      <td>0.695590</td>\n",
       "    </tr>\n",
       "    <tr>\n",
       "      <th>TTTGTTGTCTACTGAG</th>\n",
       "      <td>0.496416</td>\n",
       "    </tr>\n",
       "    <tr>\n",
       "      <th>TTTGTTGTCGATTGGT</th>\n",
       "      <td>0.659710</td>\n",
       "    </tr>\n",
       "    <tr>\n",
       "      <th>TTTGGTTCATGGGTCC</th>\n",
       "      <td>0.179704</td>\n",
       "    </tr>\n",
       "  </tbody>\n",
       "</table>\n",
       "<p>31670 rows × 1 columns</p>\n",
       "</div>"
      ],
      "text/plain": [
       "                  fraction_unspliced\n",
       "AAACGAACATTCTCTA            0.523716\n",
       "AAACGAAAGCCGCTTG            0.505452\n",
       "AAACGCTCACGCTGTG            0.435658\n",
       "AAACGAACAACTGCTA            0.385696\n",
       "AAACGCTGTGGGTATG            0.624506\n",
       "...                              ...\n",
       "TTTGTTGGTCCTGGTG            0.595714\n",
       "TTTGTTGTCCTAAACG            0.695590\n",
       "TTTGTTGTCTACTGAG            0.496416\n",
       "TTTGTTGTCGATTGGT            0.659710\n",
       "TTTGGTTCATGGGTCC            0.179704\n",
       "\n",
       "[31670 rows x 1 columns]"
      ]
     },
     "execution_count": 5,
     "metadata": {},
     "output_type": "execute_result"
    }
   ],
   "source": [
    "fraction_unspliced"
   ]
  },
  {
   "cell_type": "code",
   "execution_count": 6,
   "id": "87b2ee46",
   "metadata": {},
   "outputs": [],
   "source": [
    "# save the data\n",
    "fraction_unspliced.to_csv(\"fraction_unspliced_loom.csv\")"
   ]
  },
  {
   "cell_type": "code",
   "execution_count": null,
   "id": "c31918d5",
   "metadata": {},
   "outputs": [],
   "source": []
  }
 ],
 "metadata": {
  "kernelspec": {
   "display_name": "Python 3 (ipykernel)",
   "language": "python",
   "name": "python3"
  },
  "language_info": {
   "codemirror_mode": {
    "name": "ipython",
    "version": 3
   },
   "file_extension": ".py",
   "mimetype": "text/x-python",
   "name": "python",
   "nbconvert_exporter": "python",
   "pygments_lexer": "ipython3",
   "version": "3.1.undefined"
  }
 },
 "nbformat": 4,
 "nbformat_minor": 5
}
