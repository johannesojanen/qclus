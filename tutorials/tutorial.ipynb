# to be added

{
 "cells": [
  {
   "cell_type": "code",
   "execution_count": null,
   "metadata": {},
   "outputs": [],
   "source": []
  }
 ],
 "metadata": {
  "kernelspec": {
   "display_name": "qclus",
   "language": "python",
   "name": "python3"
  },
  "language_info": {
   "name": "python",
   "version": "3.9.15 (main, Nov 24 2022, 08:29:02) \n[Clang 14.0.6 ]"
  },
  "orig_nbformat": 4,
  "vscode": {
   "interpreter": {
    "hash": "eb4a8d64569f273b2cd82d9db4cfcd7afd0acc0c48f126a283f64c5c1bcd8676"
   }
  }
 },
 "nbformat": 4,
 "nbformat_minor": 2
}
