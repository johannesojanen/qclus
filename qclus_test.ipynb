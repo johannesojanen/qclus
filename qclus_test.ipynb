{
 "cells": [
  {
   "cell_type": "code",
   "execution_count": 1,
   "metadata": {},
   "outputs": [],
   "source": [
    "import qclus"
   ]
  },
  {
   "cell_type": "code",
   "execution_count": 2,
   "metadata": {},
   "outputs": [
    {
     "name": "stderr",
     "output_type": "stream",
     "text": [
      "/Users/johannesojanen/opt/anaconda3/envs/qclus/lib/python3.9/site-packages/anndata/_core/anndata.py:1830: UserWarning: Variable names are not unique. To make them unique, call `.var_names_make_unique`.\n",
      "  utils.warn_names_duplicates(\"var\")\n",
      "/Users/johannesojanen/opt/anaconda3/envs/qclus/lib/python3.9/site-packages/scanpy/tools/_score_genes.py:151: FutureWarning: Passing a set as an indexer is deprecated and will raise in a future version. Use a list instead.\n",
      "  for cut in np.unique(obs_cut.loc[gene_list]):\n",
      "/Users/johannesojanen/opt/anaconda3/envs/qclus/lib/python3.9/site-packages/scanpy/tools/_score_genes.py:151: FutureWarning: Passing a set as an indexer is deprecated and will raise in a future version. Use a list instead.\n",
      "  for cut in np.unique(obs_cut.loc[gene_list]):\n",
      "/Users/johannesojanen/opt/anaconda3/envs/qclus/lib/python3.9/site-packages/scanpy/tools/_score_genes.py:151: FutureWarning: Passing a set as an indexer is deprecated and will raise in a future version. Use a list instead.\n",
      "  for cut in np.unique(obs_cut.loc[gene_list]):\n",
      "/Users/johannesojanen/opt/anaconda3/envs/qclus/lib/python3.9/site-packages/scanpy/tools/_score_genes.py:151: FutureWarning: Passing a set as an indexer is deprecated and will raise in a future version. Use a list instead.\n",
      "  for cut in np.unique(obs_cut.loc[gene_list]):\n",
      "/Users/johannesojanen/opt/anaconda3/envs/qclus/lib/python3.9/site-packages/scanpy/tools/_score_genes.py:151: FutureWarning: Passing a set as an indexer is deprecated and will raise in a future version. Use a list instead.\n",
      "  for cut in np.unique(obs_cut.loc[gene_list]):\n",
      "/Users/johannesojanen/opt/anaconda3/envs/qclus/lib/python3.9/site-packages/scanpy/tools/_score_genes.py:151: FutureWarning: Passing a set as an indexer is deprecated and will raise in a future version. Use a list instead.\n",
      "  for cut in np.unique(obs_cut.loc[gene_list]):\n",
      "/Users/johannesojanen/opt/anaconda3/envs/qclus/lib/python3.9/site-packages/scanpy/tools/_score_genes.py:151: FutureWarning: Passing a set as an indexer is deprecated and will raise in a future version. Use a list instead.\n",
      "  for cut in np.unique(obs_cut.loc[gene_list]):\n",
      "/Users/johannesojanen/opt/anaconda3/envs/qclus/lib/python3.9/site-packages/scanpy/tools/_score_genes.py:151: FutureWarning: Passing a set as an indexer is deprecated and will raise in a future version. Use a list instead.\n",
      "  for cut in np.unique(obs_cut.loc[gene_list]):\n",
      "/Users/johannesojanen/opt/anaconda3/envs/qclus/lib/python3.9/site-packages/scanpy/tools/_score_genes.py:151: FutureWarning: Passing a set as an indexer is deprecated and will raise in a future version. Use a list instead.\n",
      "  for cut in np.unique(obs_cut.loc[gene_list]):\n",
      "/Users/johannesojanen/opt/anaconda3/envs/qclus/lib/python3.9/site-packages/scanpy/tools/_score_genes.py:151: FutureWarning: Passing a set as an indexer is deprecated and will raise in a future version. Use a list instead.\n",
      "  for cut in np.unique(obs_cut.loc[gene_list]):\n",
      "/Users/johannesojanen/opt/anaconda3/envs/qclus/lib/python3.9/site-packages/scanpy/tools/_score_genes.py:151: FutureWarning: Passing a set as an indexer is deprecated and will raise in a future version. Use a list instead.\n",
      "  for cut in np.unique(obs_cut.loc[gene_list]):\n",
      "/Users/johannesojanen/opt/anaconda3/envs/qclus/lib/python3.9/site-packages/scanpy/tools/_score_genes.py:151: FutureWarning: Passing a set as an indexer is deprecated and will raise in a future version. Use a list instead.\n",
      "  for cut in np.unique(obs_cut.loc[gene_list]):\n",
      "/Users/johannesojanen/opt/anaconda3/envs/qclus/lib/python3.9/site-packages/scanpy/tools/_score_genes.py:151: FutureWarning: Passing a set as an indexer is deprecated and will raise in a future version. Use a list instead.\n",
      "  for cut in np.unique(obs_cut.loc[gene_list]):\n",
      "/Users/johannesojanen/opt/anaconda3/envs/qclus/lib/python3.9/site-packages/scanpy/tools/_score_genes.py:151: FutureWarning: Passing a set as an indexer is deprecated and will raise in a future version. Use a list instead.\n",
      "  for cut in np.unique(obs_cut.loc[gene_list]):\n",
      "/Users/johannesojanen/opt/anaconda3/envs/qclus/lib/python3.9/site-packages/scanpy/tools/_score_genes.py:151: FutureWarning: Passing a set as an indexer is deprecated and will raise in a future version. Use a list instead.\n",
      "  for cut in np.unique(obs_cut.loc[gene_list]):\n"
     ]
    },
    {
     "name": "stdout",
     "output_type": "stream",
     "text": [
      "Preprocessing...\n",
      "Simulating doublets...\n",
      "Embedding transcriptomes using PCA...\n",
      "Calculating doublet scores...\n",
      "Automatically set threshold at doublet score = 0.35\n",
      "Detected doublet rate = 1.0%\n",
      "Estimated detectable doublet fraction = 24.4%\n",
      "Overall doublet rate:\n",
      "\tExpected   = 6.0%\n",
      "\tEstimated  = 4.1%\n",
      "Elapsed time: 2.5 seconds\n",
      "Detected doublet rate = 10.4%\n",
      "Estimated detectable doublet fraction = 54.5%\n",
      "Overall doublet rate:\n",
      "\tExpected   = 6.0%\n",
      "\tEstimated  = 19.2%\n"
     ]
    },
    {
     "name": "stderr",
     "output_type": "stream",
     "text": [
      "/Users/johannesojanen/Library/CloudStorage/Dropbox/WORK/MIT/qclus/qclus/qclus.py:80: ImplicitModificationWarning: Trying to modify attribute `.obs` of view, initializing view as actual.\n",
      "  adata.obs['score_scrublet'] = calculate_scrublet(adata,\n",
      "/Users/johannesojanen/opt/anaconda3/envs/qclus/lib/python3.9/site-packages/scanpy/tools/_score_genes.py:151: FutureWarning: Passing a set as an indexer is deprecated and will raise in a future version. Use a list instead.\n",
      "  for cut in np.unique(obs_cut.loc[gene_list]):\n",
      "/Users/johannesojanen/Library/CloudStorage/Dropbox/WORK/MIT/qclus/qclus/utils.py:67: SettingWithCopyWarning: \n",
      "A value is trying to be set on a copy of a slice from a DataFrame.\n",
      "Try using .loc[row_indexer,col_indexer] = value instead\n",
      "\n",
      "See the caveats in the documentation: https://pandas.pydata.org/pandas-docs/stable/user_guide/indexing.html#returning-a-view-versus-a-copy\n",
      "  df['max_non_CM'] = [\"1\" if x in max_non_CM else \"0\" for x in df.kmeans]\n",
      "/Users/johannesojanen/Library/CloudStorage/Dropbox/WORK/MIT/qclus/qclus/qclus.py:107: ImplicitModificationWarning: Trying to modify attribute `.obs` of view, initializing view as actual.\n",
      "  adata.obs[\"outlier_filter\"] = annotate_outliers(adata.obs[[\"fraction_unspliced\", \"pct_counts_MT\", \"kmeans\", \"pct_counts_nonCM\"]], unspliced_diff=outlier_unspliced_diff, mito_diff=outlier_mito_diff)\n",
      "/Users/johannesojanen/Library/CloudStorage/Dropbox/WORK/MIT/qclus/qclus/qclus.py:112: ImplicitModificationWarning: Trying to modify attribute `.obs` of view, initializing view as actual.\n",
      "  adata.obs[\"scrublet_filter\"] = [False if x < scrublet_thresh else True for x in adata.obs.score_scrublet]\n",
      "/Users/johannesojanen/Library/CloudStorage/Dropbox/WORK/MIT/qclus/qclus/qclus.py:117: SettingWithCopyWarning: \n",
      "A value is trying to be set on a copy of a slice from a DataFrame.\n",
      "Try using .loc[row_indexer,col_indexer] = value instead\n",
      "\n",
      "See the caveats in the documentation: https://pandas.pydata.org/pandas-docs/stable/user_guide/indexing.html#returning-a-view-versus-a-copy\n",
      "  adata_raw.obs[\"qclus\"] = \"passed\"\n"
     ]
    }
   ],
   "source": [
    "counts_path = \"/Users/johannesojanen/Dropbox/WORK/MIT/QClus/samples/filtered_feature_bc_matrix_739.h5\"\n",
    "loompy_path = \"/Users/johannesojanen/dropbox/work/MIT/QClus/samples/counts_counts_CAD_739.loom\"\n",
    "adata = qclus.run_qclus(counts_path,  \n",
    "                        loompy_path)"
   ]
  },
  {
   "cell_type": "code",
   "execution_count": 5,
   "metadata": {},
   "outputs": [
    {
     "data": {
      "text/html": [
       "<div>\n",
       "<style scoped>\n",
       "    .dataframe tbody tr th:only-of-type {\n",
       "        vertical-align: middle;\n",
       "    }\n",
       "\n",
       "    .dataframe tbody tr th {\n",
       "        vertical-align: top;\n",
       "    }\n",
       "\n",
       "    .dataframe thead th {\n",
       "        text-align: right;\n",
       "    }\n",
       "</style>\n",
       "<table border=\"1\" class=\"dataframe\">\n",
       "  <thead>\n",
       "    <tr style=\"text-align: right;\">\n",
       "      <th></th>\n",
       "      <th>fraction_unspliced</th>\n",
       "      <th>pct_counts_MT</th>\n",
       "      <th>total_counts</th>\n",
       "      <th>n_genes_by_counts</th>\n",
       "      <th>qclus</th>\n",
       "    </tr>\n",
       "  </thead>\n",
       "  <tbody>\n",
       "    <tr>\n",
       "      <th>AAACCCACAACGGCTC</th>\n",
       "      <td>0.665714</td>\n",
       "      <td>1.258327</td>\n",
       "      <td>1351.0</td>\n",
       "      <td>996</td>\n",
       "      <td>passed</td>\n",
       "    </tr>\n",
       "    <tr>\n",
       "      <th>AAACCCACACAACGAG</th>\n",
       "      <td>0.671795</td>\n",
       "      <td>2.103560</td>\n",
       "      <td>618.0</td>\n",
       "      <td>539</td>\n",
       "      <td>passed</td>\n",
       "    </tr>\n",
       "    <tr>\n",
       "      <th>AAACCCACATCATTGG</th>\n",
       "      <td>0.849919</td>\n",
       "      <td>0.141607</td>\n",
       "      <td>7768.0</td>\n",
       "      <td>3115</td>\n",
       "      <td>passed</td>\n",
       "    </tr>\n",
       "    <tr>\n",
       "      <th>AAACCCAGTGATAGTA</th>\n",
       "      <td>0.592668</td>\n",
       "      <td>2.949852</td>\n",
       "      <td>678.0</td>\n",
       "      <td>575</td>\n",
       "      <td>passed</td>\n",
       "    </tr>\n",
       "    <tr>\n",
       "      <th>AAACCCATCTGAGATC</th>\n",
       "      <td>0.757873</td>\n",
       "      <td>0.430504</td>\n",
       "      <td>4878.0</td>\n",
       "      <td>2195</td>\n",
       "      <td>passed</td>\n",
       "    </tr>\n",
       "  </tbody>\n",
       "</table>\n",
       "</div>"
      ],
      "text/plain": [
       "                  fraction_unspliced  pct_counts_MT  total_counts  \\\n",
       "AAACCCACAACGGCTC            0.665714       1.258327        1351.0   \n",
       "AAACCCACACAACGAG            0.671795       2.103560         618.0   \n",
       "AAACCCACATCATTGG            0.849919       0.141607        7768.0   \n",
       "AAACCCAGTGATAGTA            0.592668       2.949852         678.0   \n",
       "AAACCCATCTGAGATC            0.757873       0.430504        4878.0   \n",
       "\n",
       "                  n_genes_by_counts   qclus  \n",
       "AAACCCACAACGGCTC                996  passed  \n",
       "AAACCCACACAACGAG                539  passed  \n",
       "AAACCCACATCATTGG               3115  passed  \n",
       "AAACCCAGTGATAGTA                575  passed  \n",
       "AAACCCATCTGAGATC               2195  passed  "
      ]
     },
     "execution_count": 5,
     "metadata": {},
     "output_type": "execute_result"
    }
   ],
   "source": [
    "adata.obs.head()"
   ]
  },
  {
   "cell_type": "code",
   "execution_count": 4,
   "metadata": {},
   "outputs": [
    {
     "data": {
      "text/plain": [
       "passed               2389\n",
       "initial filter        338\n",
       "scrublet filter       274\n",
       "outlier filter        229\n",
       "clustering filter     174\n",
       "Name: qclus, dtype: int64"
      ]
     },
     "execution_count": 4,
     "metadata": {},
     "output_type": "execute_result"
    }
   ],
   "source": [
    "import pandas as pd\n",
    "adata.obs.qclus.value_counts()"
   ]
  },
  {
   "cell_type": "code",
   "execution_count": null,
   "metadata": {},
   "outputs": [],
   "source": []
  }
 ],
 "metadata": {
  "kernelspec": {
   "display_name": "qclus",
   "language": "python",
   "name": "python3"
  },
  "language_info": {
   "codemirror_mode": {
    "name": "ipython",
    "version": 3
   },
   "file_extension": ".py",
   "mimetype": "text/x-python",
   "name": "python",
   "nbconvert_exporter": "python",
   "pygments_lexer": "ipython3",
   "version": "3.9.15"
  },
  "orig_nbformat": 4,
  "vscode": {
   "interpreter": {
    "hash": "eb4a8d64569f273b2cd82d9db4cfcd7afd0acc0c48f126a283f64c5c1bcd8676"
   }
  }
 },
 "nbformat": 4,
 "nbformat_minor": 2
}
